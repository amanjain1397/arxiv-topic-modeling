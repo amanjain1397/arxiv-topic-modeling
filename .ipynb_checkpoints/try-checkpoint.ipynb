{
 "cells": [
  {
   "cell_type": "code",
   "execution_count": 1,
   "metadata": {
    "colab": {
     "base_uri": "https://localhost:8080/",
     "height": 638
    },
    "colab_type": "code",
    "executionInfo": {
     "elapsed": 12593,
     "status": "ok",
     "timestamp": 1555415517765,
     "user": {
      "displayName": "AMAN JAIN",
      "photoUrl": "https://lh4.googleusercontent.com/-6xExnnQAXkA/AAAAAAAAAAI/AAAAAAAAADg/28YDgB0hK1c/s64/photo.jpg",
      "userId": "03907457390895428361"
     },
     "user_tz": -330
    },
    "id": "Wyd6ImS-3URY",
    "outputId": "75916c8e-ebc1-43d2-debd-7b845c794569"
   },
   "outputs": [
    {
     "name": "stdout",
     "output_type": "stream",
     "text": [
      "Requirement already satisfied: sickle in /home/aman/anaconda3/lib/python3.7/site-packages (0.6.4)\n",
      "Requirement already satisfied: lxml>=3.2.3 in /home/aman/anaconda3/lib/python3.7/site-packages (from sickle) (4.2.5)\n",
      "Requirement already satisfied: requests>=1.1.0 in /home/aman/anaconda3/lib/python3.7/site-packages (from sickle) (2.19.1)\n",
      "Requirement already satisfied: idna<2.8,>=2.5 in /home/aman/anaconda3/lib/python3.7/site-packages (from requests>=1.1.0->sickle) (2.7)\n",
      "Requirement already satisfied: chardet<3.1.0,>=3.0.2 in /home/aman/anaconda3/lib/python3.7/site-packages (from requests>=1.1.0->sickle) (3.0.4)\n",
      "Requirement already satisfied: urllib3<1.24,>=1.21.1 in /home/aman/anaconda3/lib/python3.7/site-packages (from requests>=1.1.0->sickle) (1.23)\n",
      "Requirement already satisfied: certifi>=2017.4.17 in /home/aman/anaconda3/lib/python3.7/site-packages (from requests>=1.1.0->sickle) (2018.11.29)\n",
      "Requirement already satisfied: pyLDAvis in /home/aman/anaconda3/lib/python3.7/site-packages (2.1.2)\n",
      "Requirement already satisfied: joblib>=0.8.4 in /home/aman/anaconda3/lib/python3.7/site-packages (from pyLDAvis) (0.13.2)\n",
      "Requirement already satisfied: numexpr in /home/aman/anaconda3/lib/python3.7/site-packages (from pyLDAvis) (2.6.8)\n",
      "Requirement already satisfied: jinja2>=2.7.2 in /home/aman/anaconda3/lib/python3.7/site-packages (from pyLDAvis) (2.10)\n",
      "Requirement already satisfied: pandas>=0.17.0 in /home/aman/anaconda3/lib/python3.7/site-packages (from pyLDAvis) (0.23.4)\n",
      "Requirement already satisfied: pytest in /home/aman/anaconda3/lib/python3.7/site-packages (from pyLDAvis) (3.8.0)\n",
      "Requirement already satisfied: future in /home/aman/anaconda3/lib/python3.7/site-packages (from pyLDAvis) (0.17.1)\n",
      "Requirement already satisfied: wheel>=0.23.0 in /home/aman/anaconda3/lib/python3.7/site-packages (from pyLDAvis) (0.31.1)\n",
      "Requirement already satisfied: numpy>=1.9.2 in /home/aman/anaconda3/lib/python3.7/site-packages (from pyLDAvis) (1.16.2)\n",
      "Requirement already satisfied: scipy>=0.18.0 in /home/aman/anaconda3/lib/python3.7/site-packages (from pyLDAvis) (1.2.1)\n",
      "Requirement already satisfied: funcy in /home/aman/anaconda3/lib/python3.7/site-packages (from pyLDAvis) (1.11)\n",
      "Requirement already satisfied: MarkupSafe>=0.23 in /home/aman/anaconda3/lib/python3.7/site-packages (from jinja2>=2.7.2->pyLDAvis) (1.0)\n",
      "Requirement already satisfied: python-dateutil>=2.5.0 in /home/aman/anaconda3/lib/python3.7/site-packages (from pandas>=0.17.0->pyLDAvis) (2.7.3)\n",
      "Requirement already satisfied: pytz>=2011k in /home/aman/anaconda3/lib/python3.7/site-packages (from pandas>=0.17.0->pyLDAvis) (2018.5)\n",
      "Requirement already satisfied: py>=1.5.0 in /home/aman/anaconda3/lib/python3.7/site-packages (from pytest->pyLDAvis) (1.6.0)\n",
      "Requirement already satisfied: six>=1.10.0 in /home/aman/anaconda3/lib/python3.7/site-packages (from pytest->pyLDAvis) (1.11.0)\n",
      "Requirement already satisfied: setuptools in /home/aman/anaconda3/lib/python3.7/site-packages (from pytest->pyLDAvis) (40.2.0)\n",
      "Requirement already satisfied: attrs>=17.4.0 in /home/aman/anaconda3/lib/python3.7/site-packages (from pytest->pyLDAvis) (18.2.0)\n",
      "Requirement already satisfied: more-itertools>=4.0.0 in /home/aman/anaconda3/lib/python3.7/site-packages (from pytest->pyLDAvis) (4.3.0)\n",
      "Requirement already satisfied: atomicwrites>=1.0 in /home/aman/anaconda3/lib/python3.7/site-packages (from pytest->pyLDAvis) (1.2.1)\n",
      "Requirement already satisfied: pluggy>=0.7 in /home/aman/anaconda3/lib/python3.7/site-packages (from pytest->pyLDAvis) (0.7.1)\n",
      "Collecting paramiko\n",
      "\u001b[?25l  Downloading https://files.pythonhosted.org/packages/cf/ae/94e70d49044ccc234bfdba20114fa947d7ba6eb68a2e452d89b920e62227/paramiko-2.4.2-py2.py3-none-any.whl (193kB)\n",
      "\u001b[K    100% |████████████████████████████████| 194kB 41kB/s ta 0:00:01\n",
      "\u001b[?25hRequirement already satisfied: cryptography>=1.5 in /home/aman/anaconda3/lib/python3.7/site-packages (from paramiko) (2.3.1)\n",
      "Collecting pynacl>=1.0.1 (from paramiko)\n",
      "\u001b[?25l  Downloading https://files.pythonhosted.org/packages/27/15/2cd0a203f318c2240b42cd9dd13c931ddd61067809fee3479f44f086103e/PyNaCl-1.3.0-cp34-abi3-manylinux1_x86_64.whl (759kB)\n",
      "\u001b[K    100% |████████████████████████████████| 768kB 69kB/s ta 0:00:011\n",
      "\u001b[?25hRequirement already satisfied: pyasn1>=0.1.7 in /home/aman/anaconda3/lib/python3.7/site-packages (from paramiko) (0.4.4)\n",
      "Collecting bcrypt>=3.1.3 (from paramiko)\n",
      "\u001b[?25l  Downloading https://files.pythonhosted.org/packages/d0/79/79a4d167a31cc206117d9b396926615fa9c1fdbd52017bcced80937ac501/bcrypt-3.1.6-cp34-abi3-manylinux1_x86_64.whl (55kB)\n",
      "\u001b[K    100% |████████████████████████████████| 61kB 17kB/s ta 0:00:014\n",
      "\u001b[?25hRequirement already satisfied: idna>=2.1 in /home/aman/anaconda3/lib/python3.7/site-packages (from cryptography>=1.5->paramiko) (2.7)\n",
      "Requirement already satisfied: asn1crypto>=0.21.0 in /home/aman/anaconda3/lib/python3.7/site-packages (from cryptography>=1.5->paramiko) (0.24.0)\n",
      "Requirement already satisfied: six>=1.4.1 in /home/aman/anaconda3/lib/python3.7/site-packages (from cryptography>=1.5->paramiko) (1.11.0)\n",
      "Requirement already satisfied: cffi!=1.11.3,>=1.7 in /home/aman/anaconda3/lib/python3.7/site-packages (from cryptography>=1.5->paramiko) (1.11.5)\n",
      "Requirement already satisfied: pycparser in /home/aman/anaconda3/lib/python3.7/site-packages (from cffi!=1.11.3,>=1.7->cryptography>=1.5->paramiko) (2.18)\n",
      "Installing collected packages: pynacl, bcrypt, paramiko\n",
      "Successfully installed bcrypt-3.1.6 paramiko-2.4.2 pynacl-1.3.0\n"
     ]
    }
   ],
   "source": [
    "!pip install sickle\n",
    "!pip3 install pyLDAvis\n",
    "!pip install paramiko"
   ]
  },
  {
   "cell_type": "code",
   "execution_count": 1,
   "metadata": {
    "colab": {
     "base_uri": "https://localhost:8080/",
     "height": 34
    },
    "colab_type": "code",
    "executionInfo": {
     "elapsed": 676,
     "status": "ok",
     "timestamp": 1555417666452,
     "user": {
      "displayName": "AMAN JAIN",
      "photoUrl": "https://lh4.googleusercontent.com/-6xExnnQAXkA/AAAAAAAAAAI/AAAAAAAAADg/28YDgB0hK1c/s64/photo.jpg",
      "userId": "03907457390895428361"
     },
     "user_tz": -330
    },
    "id": "LMGUjrdN4hUI",
    "outputId": "2f0a8a6b-6936-43ed-950b-f366cbee2040"
   },
   "outputs": [
    {
     "name": "stdout",
     "output_type": "stream",
     "text": [
      "Drive already mounted at /content/drive; to attempt to forcibly remount, call drive.mount(\"/content/drive\", force_remount=True).\n"
     ]
    }
   ],
   "source": [
    "from google.colab import drive\n",
    "drive.mount('/content/drive')"
   ]
  },
  {
   "cell_type": "code",
   "execution_count": 2,
   "metadata": {
    "colab": {
     "base_uri": "https://localhost:8080/",
     "height": 34
    },
    "colab_type": "code",
    "executionInfo": {
     "elapsed": 978,
     "status": "ok",
     "timestamp": 1555417667058,
     "user": {
      "displayName": "AMAN JAIN",
      "photoUrl": "https://lh4.googleusercontent.com/-6xExnnQAXkA/AAAAAAAAAAI/AAAAAAAAADg/28YDgB0hK1c/s64/photo.jpg",
      "userId": "03907457390895428361"
     },
     "user_tz": -330
    },
    "id": "_PMopY6W4ni-",
    "outputId": "5cab1d5f-2f9b-424f-b72e-be729a073cc4"
   },
   "outputs": [
    {
     "data": {
      "text/plain": [
       "'/content'"
      ]
     },
     "execution_count": 2,
     "metadata": {
      "tags": []
     },
     "output_type": "execute_result"
    }
   ],
   "source": [
    "pwd"
   ]
  },
  {
   "cell_type": "code",
   "execution_count": 3,
   "metadata": {
    "colab": {
     "base_uri": "https://localhost:8080/",
     "height": 34
    },
    "colab_type": "code",
    "executionInfo": {
     "elapsed": 667,
     "status": "ok",
     "timestamp": 1555417667069,
     "user": {
      "displayName": "AMAN JAIN",
      "photoUrl": "https://lh4.googleusercontent.com/-6xExnnQAXkA/AAAAAAAAAAI/AAAAAAAAADg/28YDgB0hK1c/s64/photo.jpg",
      "userId": "03907457390895428361"
     },
     "user_tz": -330
    },
    "id": "w143Gwwk4sqL",
    "outputId": "84ee9033-8e9a-4b30-94d7-cecfe9e755ba"
   },
   "outputs": [
    {
     "name": "stdout",
     "output_type": "stream",
     "text": [
      "/content/drive/My Drive/final\n"
     ]
    }
   ],
   "source": [
    "cd '/content/drive/My Drive/final/' "
   ]
  },
  {
   "cell_type": "code",
   "execution_count": 1,
   "metadata": {
    "colab": {
     "base_uri": "https://localhost:8080/",
     "height": 353
    },
    "colab_type": "code",
    "executionInfo": {
     "elapsed": 2296,
     "status": "ok",
     "timestamp": 1555417668921,
     "user": {
      "displayName": "AMAN JAIN",
      "photoUrl": "https://lh4.googleusercontent.com/-6xExnnQAXkA/AAAAAAAAAAI/AAAAAAAAADg/28YDgB0hK1c/s64/photo.jpg",
      "userId": "03907457390895428361"
     },
     "user_tz": -330
    },
    "id": "imC_4hUe3PhF",
    "outputId": "08a9aca2-faaf-400d-e015-1f26ecd4c2c9",
    "scrolled": true
   },
   "outputs": [
    {
     "name": "stdout",
     "output_type": "stream",
     "text": [
      "[nltk_data] Downloading package wordnet to /home/aman/nltk_data...\n",
      "[nltk_data]   Package wordnet is already up-to-date!\n",
      "[nltk_data] Downloading package punkt to /home/aman/nltk_data...\n",
      "[nltk_data]   Package punkt is already up-to-date!\n",
      "[nltk_data] Downloading package averaged_perceptron_tagger to\n",
      "[nltk_data]     /home/aman/nltk_data...\n",
      "[nltk_data]   Package averaged_perceptron_tagger is already up-to-\n",
      "[nltk_data]       date!\n",
      "[nltk_data] Downloading package stopwords to /home/aman/nltk_data...\n",
      "[nltk_data]   Package stopwords is already up-to-date!\n"
     ]
    }
   ],
   "source": [
    "from sickle import Sickle\n",
    "from sickle.iterator import OAIResponseIterator\n",
    "import pickle\n",
    "\n",
    "import pandas as pd\n",
    "import numpy as np\n",
    "\n",
    "import _pickle as cPickle\n",
    "import tqdm\n",
    "\n",
    "import harvest\n",
    "import recorder\n",
    "import lda\n",
    "import main"
   ]
  },
  {
   "cell_type": "code",
   "execution_count": 5,
   "metadata": {
    "colab": {
     "base_uri": "https://localhost:8080/",
     "height": 34
    },
    "colab_type": "code",
    "executionInfo": {
     "elapsed": 1739,
     "status": "ok",
     "timestamp": 1555417668924,
     "user": {
      "displayName": "AMAN JAIN",
      "photoUrl": "https://lh4.googleusercontent.com/-6xExnnQAXkA/AAAAAAAAAAI/AAAAAAAAADg/28YDgB0hK1c/s64/photo.jpg",
      "userId": "03907457390895428361"
     },
     "user_tz": -330
    },
    "id": "bwGbAAdL3PhO",
    "outputId": "0178c473-bea8-4d34-90bd-b3f089592cd8"
   },
   "outputs": [
    {
     "name": "stdout",
     "output_type": "stream",
     "text": [
      "The records are already present till yesterday!\n"
     ]
    }
   ],
   "source": [
    "responses = harvest.oai_harvester_response()"
   ]
  },
  {
   "cell_type": "code",
   "execution_count": 3,
   "metadata": {
    "colab": {
     "base_uri": "https://localhost:8080/",
     "height": 34
    },
    "colab_type": "code",
    "executionInfo": {
     "elapsed": 1331,
     "status": "ok",
     "timestamp": 1555417668926,
     "user": {
      "displayName": "AMAN JAIN",
      "photoUrl": "https://lh4.googleusercontent.com/-6xExnnQAXkA/AAAAAAAAAAI/AAAAAAAAADg/28YDgB0hK1c/s64/photo.jpg",
      "userId": "03907457390895428361"
     },
     "user_tz": -330
    },
    "id": "R8cwuAki3PhT",
    "outputId": "41625cb5-f011-494b-b57c-750605cc319f"
   },
   "outputs": [
    {
     "name": "stdout",
     "output_type": "stream",
     "text": [
      "2019-04-16\n"
     ]
    }
   ],
   "source": [
    "with open('./pkl/harvest/today.pickle', 'rb') as handle:\n",
    "    today = pickle.load(handle)\n",
    "print(today)"
   ]
  },
  {
   "cell_type": "code",
   "execution_count": 7,
   "metadata": {
    "colab": {
     "base_uri": "https://localhost:8080/",
     "height": 34
    },
    "colab_type": "code",
    "executionInfo": {
     "elapsed": 879,
     "status": "ok",
     "timestamp": 1555417668928,
     "user": {
      "displayName": "AMAN JAIN",
      "photoUrl": "https://lh4.googleusercontent.com/-6xExnnQAXkA/AAAAAAAAAAI/AAAAAAAAADg/28YDgB0hK1c/s64/photo.jpg",
      "userId": "03907457390895428361"
     },
     "user_tz": -330
    },
    "id": "lXsOMs5y3PhX",
    "outputId": "040f7ca7-3659-4db6-e12b-220989646e09"
   },
   "outputs": [
    {
     "name": "stdout",
     "output_type": "stream",
     "text": [
      "No responses exists to dump!\n"
     ]
    }
   ],
   "source": [
    "harvest.oai_harvester_dumper(responses)"
   ]
  },
  {
   "cell_type": "code",
   "execution_count": 2,
   "metadata": {},
   "outputs": [
    {
     "name": "stdout",
     "output_type": "stream",
     "text": [
      "Dumping file counter!\n"
     ]
    }
   ],
   "source": [
    "main.creator()"
   ]
  },
  {
   "cell_type": "code",
   "execution_count": 3,
   "metadata": {
    "colab": {
     "base_uri": "https://localhost:8080/",
     "height": 34
    },
    "colab_type": "code",
    "executionInfo": {
     "elapsed": 7453,
     "status": "ok",
     "timestamp": 1555417676278,
     "user": {
      "displayName": "AMAN JAIN",
      "photoUrl": "https://lh4.googleusercontent.com/-6xExnnQAXkA/AAAAAAAAAAI/AAAAAAAAADg/28YDgB0hK1c/s64/photo.jpg",
      "userId": "03907457390895428361"
     },
     "user_tz": -330
    },
    "id": "SSr5lfD-1FKY",
    "outputId": "ac863e92-f371-4691-9602-5bc03668c94d"
   },
   "outputs": [
    {
     "name": "stdout",
     "output_type": "stream",
     "text": [
      "Corpus and dictionary already updated!\n"
     ]
    }
   ],
   "source": [
    "lda.dictionary_corpus()"
   ]
  },
  {
   "cell_type": "code",
   "execution_count": 4,
   "metadata": {
    "colab": {
     "base_uri": "https://localhost:8080/",
     "height": 1089
    },
    "colab_type": "code",
    "executionInfo": {
     "elapsed": 103231,
     "status": "error",
     "timestamp": 1555417772434,
     "user": {
      "displayName": "AMAN JAIN",
      "photoUrl": "https://lh4.googleusercontent.com/-6xExnnQAXkA/AAAAAAAAAAI/AAAAAAAAADg/28YDgB0hK1c/s64/photo.jpg",
      "userId": "03907457390895428361"
     },
     "user_tz": -330
    },
    "id": "59043aM91PSP",
    "outputId": "cec20ec2-9212-4462-d43e-a0a0c8226926"
   },
   "outputs": [
    {
     "name": "stdout",
     "output_type": "stream",
     "text": [
      "Here\n",
      "The lda model is already trained!\n"
     ]
    }
   ],
   "source": [
    "lda.train_lda()"
   ]
  },
  {
   "cell_type": "code",
   "execution_count": 5,
   "metadata": {},
   "outputs": [
    {
     "data": {
      "text/plain": [
       "[(0,\n",
       "  '0.005*\"learn\" + 0.005*\"data\" + 0.005*\"model\" + 0.005*\"system\" + 0.004*\"network\" + 0.004*\"agent\" + 0.003*\"task\" + 0.003*\"adversarial\" + 0.003*\"user\" + 0.003*\"approach\"'),\n",
       " (1,\n",
       "  '0.008*\"graph\" + 0.006*\"algorithm\" + 0.006*\"problem\" + 0.006*\"quantum\" + 0.006*\"bound\" + 0.005*\"function\" + 0.004*\"linear\" + 0.004*\"polynomial\" + 0.004*\"matrix\" + 0.004*\"complexity\"'),\n",
       " (2,\n",
       "  '0.023*\"dialogue\" + 0.015*\"ai\" + 0.013*\"dialog\" + 0.013*\"unification\" + 0.010*\"spike\" + 0.009*\"commitment\" + 0.008*\"atm\" + 0.008*\"neuron\" + 0.007*\"blur\" + 0.007*\"speech\"'),\n",
       " (3,\n",
       "  '0.012*\"distillation\" + 0.009*\"swarm\" + 0.008*\"lingual\" + 0.008*\"optimisation\" + 0.006*\"associative\" + 0.006*\"clique\" + 0.006*\"speak\" + 0.006*\"cad\" + 0.006*\"mr\" + 0.005*\"attentive\"'),\n",
       " (4,\n",
       "  '0.012*\"parsing\" + 0.012*\"grasp\" + 0.012*\"protein\" + 0.010*\"salient\" + 0.010*\"surrogate\" + 0.007*\"motif\" + 0.006*\"fee\" + 0.006*\"dna\" + 0.006*\"spline\" + 0.005*\"labor\"'),\n",
       " (5,\n",
       "  '0.020*\"unlabeled\" + 0.014*\"interpretability\" + 0.009*\"uavs\" + 0.008*\"gp\" + 0.008*\"forecasting\" + 0.007*\"millimeter\" + 0.007*\"bot\" + 0.007*\"solar\" + 0.006*\"haptic\" + 0.006*\"deconvolution\"'),\n",
       " (6,\n",
       "  '0.021*\"cnn\" + 0.018*\"embeddings\" + 0.016*\"convolutional\" + 0.012*\"shot\" + 0.011*\"audio\" + 0.007*\"monocular\" + 0.007*\"label\" + 0.006*\"semantic\" + 0.006*\"regularize\" + 0.006*\"supervise\"'),\n",
       " (7,\n",
       "  '0.010*\"dl\" + 0.008*\"uplink\" + 0.007*\"spatiotemporal\" + 0.007*\"downlink\" + 0.007*\"radio\" + 0.007*\"station\" + 0.006*\"quantification\" + 0.006*\"ultra\" + 0.006*\"mcmc\" + 0.006*\"mmwave\"'),\n",
       " (8,\n",
       "  '0.027*\"rgb\" + 0.008*\"transitive\" + 0.007*\"patent\" + 0.006*\"fuzzy\" + 0.006*\"elliptic\" + 0.006*\"countermeasure\" + 0.006*\"pave\" + 0.006*\"spanner\" + 0.005*\"mail\" + 0.005*\"united\"'),\n",
       " (9,\n",
       "  '0.015*\"image\" + 0.010*\"deep\" + 0.008*\"neural\" + 0.008*\"network\" + 0.007*\"train\" + 0.006*\"learn\" + 0.006*\"feature\" + 0.006*\"method\" + 0.006*\"segmentation\" + 0.005*\"object\"'),\n",
       " (10,\n",
       "  '0.018*\"autoencoder\" + 0.013*\"cancer\" + 0.009*\"learns\" + 0.009*\"propositional\" + 0.009*\"quantifier\" + 0.007*\"tumor\" + 0.007*\"reed\" + 0.007*\"solomon\" + 0.006*\"separable\" + 0.006*\"cyclic\"'),\n",
       " (11,\n",
       "  '0.013*\"contract\" + 0.012*\"encryption\" + 0.010*\"signature\" + 0.010*\"cryptography\" + 0.009*\"attacker\" + 0.008*\"security\" + 0.007*\"extractor\" + 0.007*\"cryptosystem\" + 0.007*\"centrality\" + 0.007*\"key\"'),\n",
       " (12,\n",
       "  '0.028*\"translation\" + 0.016*\"parse\" + 0.015*\"english\" + 0.014*\"disambiguation\" + 0.013*\"sentiment\" + 0.013*\"parser\" + 0.012*\"uav\" + 0.012*\"tag\" + 0.012*\"conversation\" + 0.010*\"prolog\"'),\n",
       " (13,\n",
       "  '0.023*\"batch\" + 0.019*\"trained\" + 0.019*\"facial\" + 0.014*\"gpu\" + 0.012*\"repair\" + 0.009*\"gender\" + 0.009*\"gpus\" + 0.008*\"gesture\" + 0.007*\"tile\" + 0.006*\"trial\"'),\n",
       " (14,\n",
       "  '0.020*\"stereo\" + 0.009*\"race\" + 0.008*\"app\" + 0.008*\"weather\" + 0.007*\"disparity\" + 0.007*\"genre\" + 0.007*\"deformable\" + 0.006*\"progressively\" + 0.006*\"bypass\" + 0.006*\"infeasible\"'),\n",
       " (15,\n",
       "  '0.011*\"social\" + 0.006*\"student\" + 0.006*\"patient\" + 0.006*\"age\" + 0.006*\"health\" + 0.006*\"medical\" + 0.006*\"news\" + 0.005*\"discriminator\" + 0.004*\"emotion\" + 0.004*\"accelerator\"'),\n",
       " (16,\n",
       "  '0.011*\"forget\" + 0.009*\"semidefinite\" + 0.009*\"provable\" + 0.009*\"lift\" + 0.009*\"lung\" + 0.008*\"abnormal\" + 0.007*\"sp\" + 0.006*\"pulmonary\" + 0.006*\"genus\" + 0.006*\"lp\"'),\n",
       " (17,\n",
       "  '0.008*\"comprehension\" + 0.007*\"perceptual\" + 0.007*\"rating\" + 0.006*\"capsule\" + 0.006*\"offload\" + 0.005*\"kitti\" + 0.005*\"federate\" + 0.005*\"synaptic\" + 0.005*\"representational\" + 0.004*\"neuromorphic\"'),\n",
       " (18,\n",
       "  '0.019*\"nlp\" + 0.018*\"descriptor\" + 0.014*\"congestion\" + 0.012*\"workshop\" + 0.010*\"city\" + 0.009*\"travel\" + 0.008*\"skin\" + 0.006*\"salesman\" + 0.006*\"satellite\" + 0.006*\"identifiability\"'),\n",
       " (19,\n",
       "  '0.010*\"language\" + 0.009*\"logic\" + 0.007*\"word\" + 0.006*\"semantic\" + 0.006*\"program\" + 0.005*\"text\" + 0.005*\"label\" + 0.005*\"grammar\" + 0.004*\"generative\" + 0.004*\"model\"'),\n",
       " (20,\n",
       "  '0.027*\"speaker\" + 0.025*\"speech\" + 0.017*\"discriminative\" + 0.012*\"utterance\" + 0.011*\"interpretable\" + 0.010*\"urban\" + 0.009*\"malware\" + 0.009*\"voice\" + 0.006*\"flip\" + 0.006*\"historical\"'),\n",
       " (21,\n",
       "  '0.016*\"dnns\" + 0.011*\"skeleton\" + 0.010*\"spoof\" + 0.009*\"hash\" + 0.009*\"impressive\" + 0.008*\"asr\" + 0.008*\"hyperparameter\" + 0.007*\"nn\" + 0.007*\"inspection\" + 0.007*\"nonmonotonic\"'),\n",
       " (22,\n",
       "  '0.012*\"revision\" + 0.009*\"benchmarking\" + 0.009*\"locality\" + 0.008*\"atlas\" + 0.008*\"triangulation\" + 0.008*\"election\" + 0.007*\"finger\" + 0.006*\"transducer\" + 0.006*\"inconsistent\" + 0.005*\"winner\"'),\n",
       " (23,\n",
       "  '0.013*\"tensor\" + 0.012*\"patch\" + 0.011*\"mesh\" + 0.010*\"occlusion\" + 0.009*\"sign\" + 0.008*\"craft\" + 0.007*\"initialization\" + 0.007*\"nonconvex\" + 0.007*\"illumination\" + 0.006*\"intra\"'),\n",
       " (24,\n",
       "  '0.021*\"reinforcement\" + 0.012*\"variational\" + 0.012*\"game\" + 0.009*\"perturbation\" + 0.008*\"augmentation\" + 0.008*\"equilibrium\" + 0.007*\"diffusion\" + 0.006*\"differentiable\" + 0.006*\"market\" + 0.006*\"consensus\"'),\n",
       " (25,\n",
       "  '0.016*\"summarization\" + 0.015*\"auto\" + 0.014*\"pedestrian\" + 0.011*\"withdrawn\" + 0.010*\"road\" + 0.008*\"autonomous\" + 0.007*\"summarize\" + 0.007*\"gps\" + 0.006*\"lane\" + 0.006*\"backpropagation\"'),\n",
       " (26,\n",
       "  '0.008*\"channel\" + 0.006*\"code\" + 0.005*\"network\" + 0.005*\"communication\" + 0.004*\"rate\" + 0.004*\"power\" + 0.004*\"scheme\" + 0.004*\"capacity\" + 0.004*\"cod\" + 0.004*\"system\"'),\n",
       " (27,\n",
       "  '0.013*\"gan\" + 0.012*\"supervision\" + 0.011*\"meta\" + 0.007*\"margin\" + 0.005*\"imagery\" + 0.005*\"agnostic\" + 0.005*\"metadata\" + 0.005*\"tweet\" + 0.004*\"fault\" + 0.004*\"chaotic\"'),\n",
       " (28,\n",
       "  '0.014*\"discourse\" + 0.009*\"citation\" + 0.006*\"wikipedia\" + 0.006*\"bug\" + 0.005*\"journal\" + 0.005*\"drug\" + 0.005*\"imitation\" + 0.005*\"imbalance\" + 0.005*\"proxy\" + 0.005*\"critic\"'),\n",
       " (29,\n",
       "  '0.009*\"visually\" + 0.008*\"sr\" + 0.008*\"quantitatively\" + 0.008*\"categorical\" + 0.005*\"catalog\" + 0.005*\"tutorial\" + 0.005*\"interoperability\" + 0.005*\"telecommunication\" + 0.005*\"man\" + 0.004*\"spanish\"')]"
      ]
     },
     "execution_count": 5,
     "metadata": {},
     "output_type": "execute_result"
    }
   ],
   "source": [
    "main.show_topics()"
   ]
  },
  {
   "cell_type": "code",
   "execution_count": 6,
   "metadata": {},
   "outputs": [
    {
     "name": "stdout",
     "output_type": "stream",
     "text": [
      "Either corpus or dictionary not present.\n"
     ]
    }
   ],
   "source": [
    "vis = main.visualise_topics()\n",
    "vis"
   ]
  },
  {
   "cell_type": "code",
   "execution_count": 0,
   "metadata": {
    "colab": {
     "base_uri": "https://localhost:8080/",
     "height": 1717
    },
    "colab_type": "code",
    "executionInfo": {
     "elapsed": 1164,
     "status": "ok",
     "timestamp": 1555410832527,
     "user": {
      "displayName": "AMAN JAIN",
      "photoUrl": "https://lh4.googleusercontent.com/-6xExnnQAXkA/AAAAAAAAAAI/AAAAAAAAADg/28YDgB0hK1c/s64/photo.jpg",
      "userId": "03907457390895428361"
     },
     "user_tz": -330
    },
    "id": "v55LB1rrwkuk",
    "outputId": "50249320-d1cc-429c-925c-236687ee384c"
   },
   "outputs": [
    {
     "data": {
      "text/plain": [
       "[(0,\n",
       "  '0.054*\"visual\" + 0.044*\"sentence\" + 0.040*\"translation\" + 0.040*\"semantic\" + 0.029*\"pixel\" + 0.027*\"success\" + 0.015*\"thing\" + 0.013*\"english\" + 0.013*\"pipeline\" + 0.012*\"computable\"'),\n",
       " (1,\n",
       "  '0.018*\"agent\" + 0.014*\"game\" + 0.011*\"logic\" + 0.011*\"datasets\" + 0.010*\"prediction\" + 0.008*\"dataset\" + 0.007*\"calculus\" + 0.007*\"regression\" + 0.006*\"stochastic\" + 0.006*\"proof\"'),\n",
       " (2,\n",
       "  '0.075*\"adversarial\" + 0.028*\"blockchain\" + 0.017*\"optical\" + 0.015*\"magnitude\" + 0.015*\"party\" + 0.014*\"stereo\" + 0.012*\"demonstration\" + 0.011*\"symmetry\" + 0.010*\"sort\" + 0.010*\"vulnerability\"'),\n",
       " (3,\n",
       "  '0.032*\"dependency\" + 0.029*\"public\" + 0.019*\"private\" + 0.018*\"l\" + 0.017*\"proposal\" + 0.013*\"briefly\" + 0.012*\"comprehension\" + 0.012*\"matter\" + 0.011*\"extent\" + 0.011*\"coherent\"'),\n",
       " (4,\n",
       "  '0.009*\"channel\" + 0.008*\"train\" + 0.007*\"communication\" + 0.007*\"network\" + 0.007*\"power\" + 0.006*\"memory\" + 0.006*\"training\" + 0.006*\"device\" + 0.005*\"rate\" + 0.005*\"layer\"'),\n",
       " (5,\n",
       "  '0.022*\"policy\" + 0.016*\"depth\" + 0.015*\"pose\" + 0.008*\"audio\" + 0.008*\"object\" + 0.007*\"setting\" + 0.006*\"virtual\" + 0.006*\"file\" + 0.006*\"stationary\" + 0.006*\"smooth\"'),\n",
       " (6,\n",
       "  '0.029*\"perturbation\" + 0.018*\"trust\" + 0.016*\"divergence\" + 0.016*\"inequality\" + 0.012*\"simulator\" + 0.012*\"modification\" + 0.012*\"interpretable\" + 0.010*\"vulnerable\" + 0.010*\"randomize\" + 0.010*\"city\"'),\n",
       " (7,\n",
       "  '0.061*\"baseline\" + 0.032*\"quadratic\" + 0.022*\"signature\" + 0.018*\"discrepancy\" + 0.016*\"secrecy\" + 0.013*\"normalize\" + 0.012*\"secret\" + 0.012*\"enterprise\" + 0.012*\"spatiotemporal\" + 0.011*\"logarithmic\"'),\n",
       " (8,\n",
       "  '0.051*\"transfer\" + 0.030*\"logic\" + 0.016*\"manipulation\" + 0.015*\"topological\" + 0.012*\"interpretation\" + 0.012*\"auto\" + 0.011*\"propositional\" + 0.011*\"semantics\" + 0.010*\"commitment\" + 0.010*\"semantic\"'),\n",
       " (9,\n",
       "  '0.024*\"parameterized\" + 0.023*\"bert\" + 0.019*\"quickly\" + 0.018*\"transforms\" + 0.017*\"outline\" + 0.017*\"engineer\" + 0.017*\"wavelet\" + 0.015*\"live\" + 0.013*\"excellent\" + 0.012*\"observer\"'),\n",
       " (10,\n",
       "  '0.019*\"travel\" + 0.017*\"eye\" + 0.017*\"assembly\" + 0.016*\"magnetic\" + 0.014*\"star\" + 0.013*\"curve\" + 0.012*\"facility\" + 0.011*\"parallelism\" + 0.011*\"helpful\" + 0.011*\"manipulator\"'),\n",
       " (11,\n",
       "  '0.167*\"deep\" + 0.027*\"student\" + 0.023*\"string\" + 0.020*\"unlabeled\" + 0.015*\"discriminator\" + 0.015*\"teacher\" + 0.014*\"speak\" + 0.013*\"music\" + 0.013*\"periodic\" + 0.012*\"cascade\"'),\n",
       " (12,\n",
       "  '0.016*\"entropy\" + 0.016*\"prior\" + 0.015*\"color\" + 0.013*\"bias\" + 0.013*\"truth\" + 0.011*\"mutual\" + 0.011*\"clinical\" + 0.011*\"registration\" + 0.010*\"genetic\" + 0.009*\"walk\"'),\n",
       " (13,\n",
       "  '0.021*\"synthetic\" + 0.015*\"publicly\" + 0.013*\"extremely\" + 0.013*\"fairness\" + 0.012*\"cue\" + 0.010*\"fair\" + 0.010*\"window\" + 0.010*\"feasibility\" + 0.009*\"urban\" + 0.009*\"package\"'),\n",
       " (14,\n",
       "  '0.057*\"convolution\" + 0.014*\"multiplication\" + 0.014*\"anti\" + 0.013*\"multiplicative\" + 0.012*\"row\" + 0.010*\"lyapunov\" + 0.010*\"vanish\" + 0.009*\"huffman\" + 0.009*\"odometry\" + 0.009*\"triangular\"'),\n",
       " (15,\n",
       "  '0.055*\"label\" + 0.036*\"shot\" + 0.026*\"progress\" + 0.016*\"alignment\" + 0.016*\"refinement\" + 0.016*\"viewpoint\" + 0.015*\"dnns\" + 0.013*\"perceptual\" + 0.012*\"semi\" + 0.012*\"actor\"'),\n",
       " (16,\n",
       "  '0.062*\"embeddings\" + 0.025*\"dictionary\" + 0.019*\"planar\" + 0.018*\"g\" + 0.014*\"consideration\" + 0.014*\"correctly\" + 0.014*\"fuse\" + 0.012*\"polygon\" + 0.012*\"subgraph\" + 0.012*\"mathematics\"'),\n",
       " (17,\n",
       "  '0.011*\"convolutional\" + 0.010*\"representation\" + 0.007*\"corpus\" + 0.007*\"architecture\" + 0.007*\"end\" + 0.007*\"instance\" + 0.007*\"context\" + 0.006*\"knowledge\" + 0.006*\"language\" + 0.005*\"local\"'),\n",
       " (18,\n",
       "  '0.028*\"treatment\" + 0.019*\"xml\" + 0.019*\"largely\" + 0.018*\"accelerator\" + 0.017*\"schema\" + 0.010*\"university\" + 0.010*\"analytically\" + 0.010*\"curriculum\" + 0.009*\"formalization\" + 0.009*\"education\"'),\n",
       " (19,\n",
       "  '0.022*\"box\" + 0.014*\"background\" + 0.013*\"module\" + 0.012*\"explanation\" + 0.012*\"acoustic\" + 0.011*\"residual\" + 0.010*\"job\" + 0.010*\"heterogeneous\" + 0.010*\"correspondence\" + 0.010*\"weakly\"'),\n",
       " (20,\n",
       "  '0.018*\"leverage\" + 0.017*\"dataset\" + 0.016*\"datasets\" + 0.013*\"gan\" + 0.012*\"prediction\" + 0.011*\"load\" + 0.010*\"train\" + 0.009*\"hash\" + 0.009*\"augmentation\" + 0.008*\"scan\"'),\n",
       " (21,\n",
       "  '0.012*\"program\" + 0.008*\"tree\" + 0.007*\"target\" + 0.006*\"stream\" + 0.006*\"tune\" + 0.005*\"graph\" + 0.005*\"flow\" + 0.005*\"sample\" + 0.005*\"compute\" + 0.005*\"flexible\"'),\n",
       " (22,\n",
       "  '0.019*\"object\" + 0.014*\"reconstruction\" + 0.011*\"resolution\" + 0.010*\"shape\" + 0.010*\"sample\" + 0.010*\"frame\" + 0.010*\"segmentation\" + 0.009*\"localization\" + 0.008*\"tensor\" + 0.008*\"representation\"'),\n",
       " (23,\n",
       "  '0.039*\"robot\" + 0.028*\"reinforcement\" + 0.020*\"motion\" + 0.013*\"consensus\" + 0.012*\"agent\" + 0.011*\"robotic\" + 0.011*\"mixed\" + 0.010*\"rl\" + 0.010*\"implicit\" + 0.009*\"character\"'),\n",
       " (24,\n",
       "  '0.042*\"aware\" + 0.028*\"recommendation\" + 0.018*\"patch\" + 0.015*\"developer\" + 0.015*\"release\" + 0.012*\"e\" + 0.012*\"german\" + 0.011*\"emphasize\" + 0.010*\"late\" + 0.010*\"thesis\"'),\n",
       " (25,\n",
       "  '0.018*\"event\" + 0.014*\"semantic\" + 0.014*\"entity\" + 0.013*\"batch\" + 0.011*\"infer\" + 0.011*\"powerful\" + 0.010*\"scene\" + 0.010*\"article\" + 0.009*\"ambiguity\" + 0.008*\"label\"'),\n",
       " (26,\n",
       "  '0.029*\"functional\" + 0.024*\"list\" + 0.022*\"cache\" + 0.021*\"quantitative\" + 0.018*\"recovery\" + 0.018*\"rewrite\" + 0.016*\"code\" + 0.013*\"rational\" + 0.013*\"belief\" + 0.013*\"correction\"'),\n",
       " (27,\n",
       "  '0.072*\"video\" + 0.047*\"segmentation\" + 0.026*\"contextual\" + 0.024*\"recurrent\" + 0.021*\"medical\" + 0.017*\"fuzzy\" + 0.015*\"cryptography\" + 0.013*\"spatio\" + 0.013*\"sketch\" + 0.011*\"eeg\"'),\n",
       " (28,\n",
       "  '0.027*\"vehicle\" + 0.023*\"camera\" + 0.015*\"traffic\" + 0.015*\"mask\" + 0.013*\"autonomous\" + 0.013*\"post\" + 0.012*\"super\" + 0.011*\"paradigm\" + 0.010*\"asynchronous\" + 0.009*\"diagnosis\"'),\n",
       " (29,\n",
       "  '0.024*\"detector\" + 0.020*\"r\" + 0.020*\"ml\" + 0.019*\"soft\" + 0.015*\"chain\" + 0.014*\"lattice\" + 0.013*\"monte\" + 0.013*\"carlo\" + 0.011*\"markov\" + 0.010*\"wave\"'),\n",
       " (30,\n",
       "  '0.024*\"team\" + 0.022*\"fourier\" + 0.020*\"stack\" + 0.013*\"reachability\" + 0.012*\"room\" + 0.009*\"surgical\" + 0.009*\"polar\" + 0.009*\"representational\" + 0.009*\"extreme\" + 0.008*\"instrument\"'),\n",
       " (31,\n",
       "  '0.019*\"controller\" + 0.018*\"automaton\" + 0.016*\"driven\" + 0.016*\"lexical\" + 0.015*\"synthesis\" + 0.015*\"fine\" + 0.015*\"gate\" + 0.013*\"neighbor\" + 0.012*\"perception\" + 0.011*\"visual\"'),\n",
       " (32,\n",
       "  '0.025*\"uncertainty\" + 0.018*\"geometric\" + 0.017*\"compression\" + 0.012*\"rank\" + 0.012*\"normalization\" + 0.011*\"geometry\" + 0.010*\"completion\" + 0.008*\"compress\" + 0.008*\"true\" + 0.008*\"quantization\"'),\n",
       " (33,\n",
       "  '0.046*\"speech\" + 0.035*\"inference\" + 0.027*\"speaker\" + 0.024*\"parse\" + 0.023*\"grammar\" + 0.022*\"variational\" + 0.016*\"discourse\" + 0.014*\"parser\" + 0.012*\"language\" + 0.012*\"dnn\"'),\n",
       " (34,\n",
       "  '0.070*\"unsupervised\" + 0.023*\"defense\" + 0.021*\"sit\" + 0.018*\"expectation\" + 0.017*\"satisfiability\" + 0.012*\"flat\" + 0.012*\"innovation\" + 0.011*\"counter\" + 0.011*\"ask\" + 0.011*\"conflict\"'),\n",
       " (35,\n",
       "  '0.025*\"root\" + 0.023*\"trained\" + 0.014*\"transformer\" + 0.014*\"tcp\" + 0.013*\"encoders\" + 0.012*\"used\" + 0.012*\"backbone\" + 0.012*\"convert\" + 0.011*\"agreement\" + 0.011*\"intensity\"'),\n",
       " (36,\n",
       "  '0.020*\"track\" + 0.017*\"score\" + 0.015*\"community\" + 0.014*\"dataset\" + 0.013*\"exploration\" + 0.012*\"supervision\" + 0.011*\"answer\" + 0.010*\"item\" + 0.010*\"massive\" + 0.009*\"target\"'),\n",
       " (37,\n",
       "  '0.018*\"code\" + 0.017*\"channel\" + 0.013*\"cod\" + 0.012*\"generator\" + 0.011*\"let\" + 0.011*\"decode\" + 0.010*\"symbolic\" + 0.009*\"synthesize\" + 0.009*\"capacity\" + 0.008*\"permutation\"'),\n",
       " (38,\n",
       "  '0.032*\"ai\" + 0.022*\"representative\" + 0.019*\"lesion\" + 0.018*\"artificial\" + 0.018*\"intelligence\" + 0.014*\"puzzle\" + 0.013*\"anchor\" + 0.013*\"triangle\" + 0.013*\"diagram\" + 0.012*\"par\"'),\n",
       " (39,\n",
       "  '0.045*\"graph\" + 0.023*\"edge\" + 0.019*\"vertex\" + 0.015*\"arm\" + 0.014*\"accelerate\" + 0.013*\"bandit\" + 0.013*\"formulation\" + 0.012*\"aerial\" + 0.012*\"forest\" + 0.012*\"entanglement\"'),\n",
       " (40,\n",
       "  '0.039*\"scene\" + 0.037*\"plan\" + 0.018*\"disambiguation\" + 0.017*\"cancer\" + 0.016*\"composition\" + 0.013*\"absolute\" + 0.010*\"de\" + 0.010*\"financial\" + 0.009*\"graphic\" + 0.009*\"neither\"'),\n",
       " (41,\n",
       "  '0.021*\"linguistic\" + 0.015*\"market\" + 0.012*\"log\" + 0.011*\"software\" + 0.011*\"client\" + 0.010*\"deployment\" + 0.010*\"essential\" + 0.010*\"investigation\" + 0.009*\"cryptographic\" + 0.009*\"sensitive\"'),\n",
       " (42,\n",
       "  '0.011*\"model\" + 0.011*\"learn\" + 0.010*\"network\" + 0.010*\"image\" + 0.009*\"data\" + 0.008*\"method\" + 0.008*\"neural\" + 0.007*\"task\" + 0.007*\"system\" + 0.007*\"approach\"'),\n",
       " (43,\n",
       "  '0.013*\"cnn\" + 0.013*\"train\" + 0.012*\"retrieval\" + 0.011*\"trajectory\" + 0.011*\"latent\" + 0.010*\"embed\" + 0.010*\"nonlinear\" + 0.008*\"training\" + 0.008*\"planning\" + 0.008*\"correlation\"'),\n",
       " (44,\n",
       "  '0.026*\"neuron\" + 0.024*\"unseen\" + 0.022*\"descriptor\" + 0.019*\"rapid\" + 0.016*\"noun\" + 0.014*\"dna\" + 0.013*\"protein\" + 0.012*\"verb\" + 0.010*\"sgd\" + 0.009*\"receptive\"'),\n",
       " (45,\n",
       "  '0.021*\"iteration\" + 0.018*\"correlate\" + 0.014*\"graphical\" + 0.014*\"spatially\" + 0.013*\"deliver\" + 0.013*\"remove\" + 0.012*\"imbalance\" + 0.011*\"reasonable\" + 0.011*\"disjoint\" + 0.011*\"multiplexing\"'),\n",
       " (46,\n",
       "  '0.082*\"quantum\" + 0.016*\"classical\" + 0.012*\"combinatorial\" + 0.010*\"norm\" + 0.010*\"diffusion\" + 0.009*\"q\" + 0.009*\"integer\" + 0.008*\"arithmetic\" + 0.008*\"theorem\" + 0.007*\"quasi\"'),\n",
       " (47,\n",
       "  '0.030*\"cluster\" + 0.019*\"activation\" + 0.018*\"whole\" + 0.014*\"ad\" + 0.013*\"forecast\" + 0.013*\"congestion\" + 0.012*\"demand\" + 0.011*\"pool\" + 0.011*\"cell\" + 0.011*\"mobility\"'),\n",
       " (48,\n",
       "  '0.017*\"bound\" + 0.013*\"code\" + 0.013*\"polynomial\" + 0.012*\"problem\" + 0.011*\"algorithm\" + 0.010*\"function\" + 0.010*\"linear\" + 0.009*\"complexity\" + 0.009*\"n\" + 0.008*\"matrix\"'),\n",
       " (49,\n",
       "  '0.023*\"word\" + 0.023*\"text\" + 0.015*\"language\" + 0.010*\"ground\" + 0.010*\"encoder\" + 0.009*\"person\" + 0.008*\"meta\" + 0.008*\"survey\" + 0.008*\"dialogue\" + 0.007*\"relational\"')]"
      ]
     },
     "execution_count": 16,
     "metadata": {
      "tags": []
     },
     "output_type": "execute_result"
    }
   ],
   "source": [
    "with open('./models/lda.pickle', 'rb') as handle:\n",
    "    lda = pickle.load(handle)\n",
    "    handle.close()\n",
    "lda.show_topics(num_topics = 50)"
   ]
  },
  {
   "cell_type": "code",
   "execution_count": 0,
   "metadata": {
    "colab": {
     "base_uri": "https://localhost:8080/",
     "height": 212
    },
    "colab_type": "code",
    "executionInfo": {
     "elapsed": 1380,
     "status": "error",
     "timestamp": 1555350854574,
     "user": {
      "displayName": "AMAN JAIN",
      "photoUrl": "https://lh4.googleusercontent.com/-6xExnnQAXkA/AAAAAAAAAAI/AAAAAAAAADg/28YDgB0hK1c/s64/photo.jpg",
      "userId": "03907457390895428361"
     },
     "user_tz": -330
    },
    "id": "z1jBYi0SIhbE",
    "outputId": "4ce3070a-5161-41b7-d577-865a54233711"
   },
   "outputs": [
    {
     "ename": "AttributeError",
     "evalue": "ignored",
     "output_type": "error",
     "traceback": [
      "\u001b[0;31m---------------------------------------------------------------------------\u001b[0m",
      "\u001b[0;31mAttributeError\u001b[0m                            Traceback (most recent call last)",
      "\u001b[0;32m<ipython-input-15-5588c69d5d77>\u001b[0m in \u001b[0;36m<module>\u001b[0;34m()\u001b[0m\n\u001b[1;32m      1\u001b[0m \u001b[0;32mimport\u001b[0m \u001b[0mpyLDAvis\u001b[0m\u001b[0;34m\u001b[0m\u001b[0;34m\u001b[0m\u001b[0m\n\u001b[1;32m      2\u001b[0m \u001b[0mpyLDAvis\u001b[0m\u001b[0;34m.\u001b[0m\u001b[0menable_notebook\u001b[0m\u001b[0;34m(\u001b[0m\u001b[0;34m)\u001b[0m\u001b[0;34m\u001b[0m\u001b[0;34m\u001b[0m\u001b[0m\n\u001b[0;32m----> 3\u001b[0;31m \u001b[0mvis\u001b[0m \u001b[0;34m=\u001b[0m \u001b[0mpyLDAvis\u001b[0m\u001b[0;34m.\u001b[0m\u001b[0mgensim\u001b[0m\u001b[0;34m.\u001b[0m\u001b[0mprepare\u001b[0m\u001b[0;34m(\u001b[0m\u001b[0mlda_model\u001b[0m\u001b[0;34m,\u001b[0m \u001b[0mcorpus\u001b[0m\u001b[0;34m,\u001b[0m \u001b[0mid2word\u001b[0m\u001b[0;34m)\u001b[0m\u001b[0;34m\u001b[0m\u001b[0;34m\u001b[0m\u001b[0m\n\u001b[0m\u001b[1;32m      4\u001b[0m \u001b[0mvis\u001b[0m\u001b[0;34m\u001b[0m\u001b[0;34m\u001b[0m\u001b[0m\n",
      "\u001b[0;31mAttributeError\u001b[0m: module 'pyLDAvis' has no attribute 'gensim'"
     ]
    }
   ],
   "source": [
    "import pyLDAvis\n",
    "pyLDAvis.enable_notebook()\n",
    "\n",
    "py[]"
   ]
  },
  {
   "cell_type": "code",
   "execution_count": 0,
   "metadata": {
    "colab": {
     "base_uri": "https://localhost:8080/",
     "height": 319
    },
    "colab_type": "code",
    "executionInfo": {
     "elapsed": 12152,
     "status": "ok",
     "timestamp": 1555412046026,
     "user": {
      "displayName": "AMAN JAIN",
      "photoUrl": "https://lh4.googleusercontent.com/-6xExnnQAXkA/AAAAAAAAAAI/AAAAAAAAADg/28YDgB0hK1c/s64/photo.jpg",
      "userId": "03907457390895428361"
     },
     "user_tz": -330
    },
    "id": "53nabLUibXcp",
    "outputId": "b65bcef8-9251-4b04-a087-11f8daf0bccb"
   },
   "outputs": [
    {
     "data": {
      "text/plain": [
       "[(1, 0.02152212),\n",
       " (2, 0.019650089),\n",
       " (3, 0.011386853),\n",
       " (4, 0.10775819),\n",
       " (6, 0.01679377),\n",
       " (13, 0.017966231),\n",
       " (15, 0.16175054),\n",
       " (16, 0.01018074),\n",
       " (18, 0.0591631),\n",
       " (20, 0.035552993),\n",
       " (21, 0.10183512),\n",
       " (27, 0.04641526),\n",
       " (28, 0.02826562),\n",
       " (31, 0.02546611),\n",
       " (42, 0.16404992),\n",
       " (43, 0.03297601),\n",
       " (46, 0.025994241),\n",
       " (49, 0.016787501)]"
      ]
     },
     "execution_count": 35,
     "metadata": {
      "tags": []
     },
     "output_type": "execute_result"
    }
   ],
   "source": [
    "lda.query(s)"
   ]
  },
  {
   "cell_type": "code",
   "execution_count": 0,
   "metadata": {
    "colab": {},
    "colab_type": "code",
    "id": "ECmjgRl23Phl"
   },
   "outputs": [],
   "source": [
    "def pklInfo():\n",
    "    \n",
    "    #Harvester\n",
    "    with open('./pkl/harvest/flag.pickle', 'rb') as handle:\n",
    "        flag = pickle.load(handle)\n",
    "        print('flag : ', flag)\n",
    "        handle.close()\n",
    "        \n",
    "    with open('./pkl/harvest/today.pickle', 'rb') as handle:\n",
    "        today = pickle.load(handle)\n",
    "        print('today : ', today)\n",
    "        handle.close()\n",
    "\n",
    "    #Main\n",
    "\n",
    "    with open('./pkl/main/recDict.pickle', 'rb') as handle:\n",
    "        recDict = pickle.load(handle)\n",
    "        print('Length of recDict : ', len(recDict))\n",
    "        handle.close()\n",
    "\n",
    "    with open('./pkl/main/flag1.pickle', 'rb') as handle:\n",
    "        flag1 = pickle.load(handle)\n",
    "        print('flag1 : ', flag1)\n",
    "        handle.close()\n",
    "    \n",
    "    '''with open('./pkl/main/abstract_list.pickle', 'rb') as handle:\n",
    "        abstract_list = pickle.load(handle)\n",
    "        print('Length of abstract_list : ', len(abstract_list))\n",
    "        handle.close()'''\n",
    "\n",
    "    with open('./pkl/main/id_list.pickle', 'rb') as handle:\n",
    "        id_list = pickle.load(handle)\n",
    "        print('Length of id_list : ', len(id_list))\n",
    "        handle.close()\n",
    "\n",
    "    with open('./pkl/main/fileDumpCounter.pickle', 'rb') as handle:\n",
    "        fileDumpCounter = pickle.load(handle)\n",
    "        print('fileDumpCounter : ', fileDumpCounter)\n",
    "        handle.close()    \n",
    "    \n",
    "    with open('./pkl/main/combined_list.pickle', 'rb') as handle:\n",
    "        combined_list = pickle.load(handle)\n",
    "        print('Length of combined_list : ', len(combined_list))\n",
    "        handle.close()\n",
    "    \n",
    "    with open('./pkl/main/flag2.pickle', 'rb') as handle:\n",
    "        flag2 = pickle.load(handle)\n",
    "        print('flag2 : ', flag2)\n",
    "        handle.close()\n",
    "    "
   ]
  },
  {
   "cell_type": "code",
   "execution_count": 0,
   "metadata": {
    "colab": {
     "base_uri": "https://localhost:8080/",
     "height": 34
    },
    "colab_type": "code",
    "executionInfo": {
     "elapsed": 3401,
     "status": "ok",
     "timestamp": 1555323956533,
     "user": {
      "displayName": "AMAN JAIN",
      "photoUrl": "https://lh4.googleusercontent.com/-6xExnnQAXkA/AAAAAAAAAAI/AAAAAAAAADg/28YDgB0hK1c/s64/photo.jpg",
      "userId": "03907457390895428361"
     },
     "user_tz": -330
    },
    "id": "4j2eyB7Vhpah",
    "outputId": "affc59b9-79bb-4010-a681-b35d6e581056"
   },
   "outputs": [
    {
     "data": {
      "text/plain": [
       "'kick like bitch'"
      ]
     },
     "execution_count": 4,
     "metadata": {
      "tags": []
     },
     "output_type": "execute_result"
    }
   ],
   "source": [
    "lda.query('kick me like a bitch')"
   ]
  },
  {
   "cell_type": "code",
   "execution_count": 0,
   "metadata": {
    "colab": {
     "base_uri": "https://localhost:8080/",
     "height": 151
    },
    "colab_type": "code",
    "executionInfo": {
     "elapsed": 8407,
     "status": "ok",
     "timestamp": 1555393520904,
     "user": {
      "displayName": "AMAN JAIN",
      "photoUrl": "https://lh4.googleusercontent.com/-6xExnnQAXkA/AAAAAAAAAAI/AAAAAAAAADg/28YDgB0hK1c/s64/photo.jpg",
      "userId": "03907457390895428361"
     },
     "user_tz": -330
    },
    "id": "244JQo6r3Phn",
    "outputId": "328ef4c8-97f8-426c-e298-2124fde68875"
   },
   "outputs": [
    {
     "name": "stdout",
     "output_type": "stream",
     "text": [
      "flag :  214\n",
      "today :  2019-04-16\n",
      "flag1 :  209854\n",
      "Length of recDict :  209855\n",
      "Length of id_list :  209855\n",
      "fileDumpCounter :  214\n",
      "Length of combined_list :  209855\n",
      "flag2 :  209585\n"
     ]
    }
   ],
   "source": [
    "pklInfo()"
   ]
  }
 ],
 "metadata": {
  "colab": {
   "collapsed_sections": [],
   "name": "try.ipynb",
   "provenance": [],
   "version": "0.3.2"
  },
  "kernelspec": {
   "display_name": "Python 3",
   "language": "python",
   "name": "python3"
  },
  "language_info": {
   "codemirror_mode": {
    "name": "ipython",
    "version": 3
   },
   "file_extension": ".py",
   "mimetype": "text/x-python",
   "name": "python",
   "nbconvert_exporter": "python",
   "pygments_lexer": "ipython3",
   "version": "3.7.1"
  }
 },
 "nbformat": 4,
 "nbformat_minor": 1
}
